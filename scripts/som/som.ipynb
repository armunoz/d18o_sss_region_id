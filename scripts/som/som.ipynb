{
 "cells": [
  {
   "cell_type": "code",
   "execution_count": null,
   "metadata": {},
   "outputs": [],
   "source": [
    "import numpy as np\n",
    "from matplotlib import pyplot as plt\n",
    "from sompy.sompy import SOMFactory\n",
    "import pandas as pd\n",
    "import sys\n",
    "from scipy.signal import savgol_filter\n",
    "import warnings\n",
    "warnings.filterwarnings('ignore')"
   ]
  },
  {
   "cell_type": "code",
   "execution_count": null,
   "metadata": {},
   "outputs": [],
   "source": [
    "from matplotlib import rc\n",
    "rc('font', **{'family': 'serif', 'serif': ['Computer Modern'],'size':'18'})\n",
    "rc('text', usetex=True)"
   ]
  },
  {
   "cell_type": "code",
   "execution_count": null,
   "metadata": {
    "scrolled": true
   },
   "outputs": [],
   "source": [
    "df = pd.read_csv('../../data/d18o_sss_raw_data.csv')\n",
    "df_filt = pd.DataFrame(columns=['d18o','sss','lat','lon'])\n",
    "df_filt['d18o'] = df[(df['d18o']!='**')&(df['sss']!='**')]['d18o'].astype('float')\n",
    "df_filt['sss'] = df[(df['d18o']!='**')&(df['sss']!='**')]['sss'].astype('float')\n",
    "df_filt['lon'] = df[(df['d18o']!='**')&(df['sss']!='**')]['lon'].astype('float')\n",
    "df_filt['lat'] = df[(df['d18o']!='**')&(df['sss']!='**')]['lat'].astype('float')\n",
    "df_filt['depth'] = df[(df['d18o']!='**')&(df['sss']!='**')]['depth'].astype('float')\n",
    "df_filt_na = df_filt.dropna()\n",
    "df_filt_depth_na = df_filt_na[(df_filt_na['depth']<26)&(df_filt_na['sss']<50)&(df_filt_na['sss']>20)]\n",
    "exp_filt = df_filt_depth_na\n",
    "exp_data = np.column_stack([exp_filt['d18o'],exp_filt['sss']])"
   ]
  },
  {
   "cell_type": "code",
   "execution_count": null,
   "metadata": {},
   "outputs": [],
   "source": [
    "data_d18o = pd.read_json('./d18o_for_som.json')\n",
    "data_sss = pd.read_json('./sss_for_som.json')\n",
    "lat = np.array([])\n",
    "lon = np.array([])\n",
    "for lat_i in range(180):\n",
    "  for lon_j in range(360):\n",
    "    lat = np.append(lat,lat_i)\n",
    "    lon = np.append(lon,lon_j)\n",
    "d18O = np.ndarray.flatten(np.array(data_d18o))\n",
    "sss = np.ndarray.flatten(np.array(data_sss))\n",
    "names = ['d18O','sss']\n",
    "space = np.column_stack([d18O,sss])"
   ]
  },
  {
   "cell_type": "code",
   "execution_count": null,
   "metadata": {},
   "outputs": [],
   "source": [
    "sm = SOMFactory().build(space, mapsize=[40,40], normalization = 'var', initialization='pca', component_names=names)\n",
    "sm.train(n_job=1, verbose =False, train_rough_len=200, train_finetune_len=60)"
   ]
  },
  {
   "cell_type": "code",
   "execution_count": null,
   "metadata": {
    "scrolled": true
   },
   "outputs": [],
   "source": [
    "projection = sm.project_data(exp_data)\n",
    "projection = pd.DataFrame(np.column_stack([exp_filt['lon'],exp_filt['lat'],projection,exp_filt['d18o'],exp_filt['sss']]))\n",
    "projection = projection.rename(columns={0: \"lon\", 1: \"lat\", 2: \"bmu\",3:'d18o',4:'sss'})\n",
    "projection.to_json('exp_data_with_bmus.json')"
   ]
  },
  {
   "cell_type": "code",
   "execution_count": null,
   "metadata": {},
   "outputs": [],
   "source": [
    "topographic_error = sm.calculate_topographic_error()\n",
    "quantization_error = np.mean(sm._bmu[1])\n",
    "print (\"Topographic error = %s; Quantization error = %s\" % (topographic_error, quantization_error))"
   ]
  },
  {
   "cell_type": "code",
   "execution_count": null,
   "metadata": {},
   "outputs": [],
   "source": [
    "from sompy.visualization.mapview import View2D\n",
    "view2D  = View2D(10,10,\"rand data\",text_size=14, denormalize=False)\n",
    "view2D.show(sm, col_sz=2, which_dim=\"all\")"
   ]
  },
  {
   "cell_type": "code",
   "execution_count": null,
   "metadata": {},
   "outputs": [],
   "source": [
    "bmu_df = pd.DataFrame(columns=['bmu','lat','lon'])\n",
    "bmu_df['bmu'] = sm._bmu[0]\n",
    "bmu_df['lat'] = lat\n",
    "bmu_df['lon'] = lon\n",
    "bmu_df.to_json('som_groups.json')"
   ]
  },
  {
   "cell_type": "code",
   "execution_count": null,
   "metadata": {},
   "outputs": [],
   "source": []
  }
 ],
 "metadata": {
  "kernelspec": {
   "display_name": "Python 3 (ipykernel)",
   "language": "python",
   "name": "python3"
  },
  "language_info": {
   "codemirror_mode": {
    "name": "ipython",
    "version": 3
   },
   "file_extension": ".py",
   "mimetype": "text/x-python",
   "name": "python",
   "nbconvert_exporter": "python",
   "pygments_lexer": "ipython3",
   "version": "3.8.3"
  }
 },
 "nbformat": 4,
 "nbformat_minor": 2
}
