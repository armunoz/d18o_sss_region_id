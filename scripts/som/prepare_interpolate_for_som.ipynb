{
 "cells": [
  {
   "cell_type": "code",
   "execution_count": null,
   "metadata": {},
   "outputs": [],
   "source": [
    "import pandas as pd\n",
    "import numpy as np"
   ]
  },
  {
   "cell_type": "code",
   "execution_count": null,
   "metadata": {},
   "outputs": [],
   "source": [
    "d18o = pd.read_json('../../data/d18o_interpolated.json')\n",
    "sss = pd.read_json('../../data/sss_interpolated.json')"
   ]
  },
  {
   "cell_type": "code",
   "execution_count": null,
   "metadata": {},
   "outputs": [],
   "source": [
    "d18o['lon']*=180\n",
    "d18o['lat']*=90\n",
    "sss['lon']*=180\n",
    "sss['lat']*=90"
   ]
  },
  {
   "cell_type": "code",
   "execution_count": null,
   "metadata": {},
   "outputs": [],
   "source": [
    "d18o_format = pd.DataFrame(np.zeros((180,360)))\n",
    "sss_format = pd.DataFrame(np.zeros((180,360)))"
   ]
  },
  {
   "cell_type": "code",
   "execution_count": null,
   "metadata": {},
   "outputs": [],
   "source": [
    "for i, row in d18o.iterrows():\n",
    "    lat_round = np.round(row['lat']+90,1)\n",
    "    lon_round = np.round(row['lon']+180,1)\n",
    "\n",
    "    d18o_format.at[lat_round,lon_round] = row['d18o']\n",
    "    "
   ]
  },
  {
   "cell_type": "code",
   "execution_count": null,
   "metadata": {},
   "outputs": [],
   "source": [
    "for i, row in sss.iterrows():\n",
    "    lat_round = np.round(row['lat']+90,1)\n",
    "    lon_round = np.round(row['lon']+180,1)\n",
    "\n",
    "    sss_format.at[lat_round,lon_round] = row['sss']\n",
    "    "
   ]
  },
  {
   "cell_type": "code",
   "execution_count": null,
   "metadata": {},
   "outputs": [],
   "source": [
    "sss_format.to_json('sss_for_som.json')\n",
    "d18o_format.to_json('d18o_for_som.json')"
   ]
  },
  {
   "cell_type": "code",
   "execution_count": null,
   "metadata": {},
   "outputs": [],
   "source": []
  }
 ],
 "metadata": {
  "kernelspec": {
   "display_name": "Python 3 (ipykernel)",
   "language": "python",
   "name": "python3"
  },
  "language_info": {
   "codemirror_mode": {
    "name": "ipython",
    "version": 3
   },
   "file_extension": ".py",
   "mimetype": "text/x-python",
   "name": "python",
   "nbconvert_exporter": "python",
   "pygments_lexer": "ipython3",
   "version": "3.8.3"
  }
 },
 "nbformat": 4,
 "nbformat_minor": 4
}
