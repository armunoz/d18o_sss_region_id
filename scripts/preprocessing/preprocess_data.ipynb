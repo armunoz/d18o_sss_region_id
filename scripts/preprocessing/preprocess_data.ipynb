{
 "cells": [
  {
   "cell_type": "code",
   "execution_count": null,
   "metadata": {},
   "outputs": [],
   "source": [
    "import pandas as pd\n",
    "import numpy as np\n",
    "import matplotlib.pyplot as plt\n",
    "from matplotlib import rc\n",
    "\n",
    "rc('font', **{'family': 'serif', 'serif': ['Computer Modern']})\n",
    "rc('text', usetex=True)"
   ]
  },
  {
   "cell_type": "code",
   "execution_count": null,
   "metadata": {},
   "outputs": [],
   "source": [
    "df_orig = pd.read_csv('d18o_sss_raw_data.csv')\n",
    "df_filt = pd.DataFrame(columns=['d18o','lat','lon','depth'])"
   ]
  },
  {
   "cell_type": "code",
   "execution_count": null,
   "metadata": {},
   "outputs": [],
   "source": [
    "df = pd.DataFrame(columns=['sss','d18o','lon','lat','depth'])\n",
    "df['sss'] = df_orig['sss']\n",
    "df['lat'] = df_orig['lat']\n",
    "df['lon'] = df_orig['lon']\n",
    "df['depth'] = df_orig['depth']\n",
    "df['d18o'] = df_orig['d18o']\n",
    "df = df.dropna()"
   ]
  },
  {
   "cell_type": "code",
   "execution_count": null,
   "metadata": {},
   "outputs": [],
   "source": [
    "df_filt = pd.DataFrame(columns=['d18o','lat','lon','depth'])\n",
    "df_filt['d18o'] = df[(df['d18o']!='**')&(df['sss']!='**')]['d18o'].astype('float')\n",
    "df_filt['sss'] = df[(df['d18o']!='**')&(df['sss']!='**')]['sss'].astype('float')\n",
    "\n",
    "df_filt['lon'] = df[(df['d18o']!='**')&(df['sss']!='**')]['lon'].astype('float')\n",
    "df_filt['lat'] = df[(df['d18o']!='**')&(df['sss']!='**')]['lat'].astype('float')\n",
    "df_filt['depth'] = df[(df['d18o']!='**')&(df['sss']!='**')]['depth'].astype('float')\n",
    "df_filt_na = df_filt.dropna()\n",
    "df_filt_depth_na = df_filt_na[(df_filt_na['depth']<26)&(df_filt_na['sss']<50)&(df_filt_na['sss']>20)]\n",
    "df_filt_depth_na = df_filt_depth_na.drop(['sss'],axis=1).reset_index()\n",
    "\n",
    "for i, row in df_filt_depth_na.iterrows():\n",
    "    if row['lon']>180:\n",
    "        df_filt_depth_na.loc[i, 'lon'] = row['lon']-180"
   ]
  },
  {
   "cell_type": "code",
   "execution_count": null,
   "metadata": {},
   "outputs": [],
   "source": [
    "df_filt_depth_na['d18o_norm'] = df_filt_depth_na['d18o']/max(abs(df_filt_depth_na['d18o']))\n",
    "df_filt_depth_na['lat_norm'] = df_filt_depth_na['lat']/max(abs(df_filt_depth_na['lat']))\n",
    "df_filt_depth_na['lon_norm'] = df_filt_depth_na['lon']/max(abs(df_filt_depth_na['lon']))\n",
    "df_filt_depth_na['depth_norm'] = df_filt_depth_na['depth']/max(abs(df_filt_depth_na['depth']))"
   ]
  },
  {
   "cell_type": "code",
   "execution_count": null,
   "metadata": {},
   "outputs": [],
   "source": [
    "df_filt2 = pd.DataFrame(columns=['sss','lat','lon','depth'])\n",
    "\n",
    "df_filt2['sss'] = df[(df['d18o']!='**')&(df['sss']!='**')]['sss'].astype('float')\n",
    "df_filt2['lon'] = df[(df['d18o']!='**')&(df['sss']!='**')]['lon'].astype('float')\n",
    "df_filt2['lat'] = df[(df['d18o']!='**')&(df['sss']!='**')]['lat'].astype('float')\n",
    "df_filt2['depth'] = df[(df['d18o']!='**')&(df['sss']!='**')]['depth'].astype('float')\n",
    "df_filt_na2 = df_filt2.dropna()\n",
    "df_filt_depth_na2 = df_filt_na2[(df_filt_na2['depth']<26)&(df_filt_na2['sss']<50)&(df_filt_na2['sss']>20)]\n",
    "\n",
    "for i, row in df_filt_depth_na2.iterrows():\n",
    "    if row['lon']>180:\n",
    "        df_filt_depth_na2.loc[i, 'lon'] = row['lon']-180"
   ]
  },
  {
   "cell_type": "code",
   "execution_count": null,
   "metadata": {},
   "outputs": [],
   "source": [
    "df_filt_depth_na2['sss_norm'] = df_filt_depth_na2['sss']/max(abs(df_filt_depth_na2['sss']))\n",
    "df_filt_depth_na2['lat_norm'] = df_filt_depth_na2['lat']/max(abs(df_filt_depth_na2['lat']))\n",
    "df_filt_depth_na2['lon_norm'] = df_filt_depth_na2['lon']/max(abs(df_filt_depth_na2['lon']))\n",
    "df_filt_depth_na2['depth_norm'] = df_filt_depth_na2['depth']/max(abs(df_filt_depth_na2['depth']))"
   ]
  },
  {
   "cell_type": "code",
   "execution_count": null,
   "metadata": {},
   "outputs": [],
   "source": [
    "df_filt_depth_na2.to_json('sss_cleaned_data.json')\n",
    "df_filt_depth_na.to_json('d18o_cleaned_data.json')"
   ]
  },
  {
   "cell_type": "code",
   "execution_count": null,
   "metadata": {},
   "outputs": [],
   "source": []
  }
 ],
 "metadata": {
  "kernelspec": {
   "display_name": "Python 3 (ipykernel)",
   "language": "python",
   "name": "python3"
  },
  "language_info": {
   "codemirror_mode": {
    "name": "ipython",
    "version": 3
   },
   "file_extension": ".py",
   "mimetype": "text/x-python",
   "name": "python",
   "nbconvert_exporter": "python",
   "pygments_lexer": "ipython3",
   "version": "3.8.3"
  }
 },
 "nbformat": 4,
 "nbformat_minor": 4
}
