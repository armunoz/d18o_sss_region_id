{
 "cells": [
  {
   "cell_type": "code",
   "execution_count": 1,
   "metadata": {},
   "outputs": [],
   "source": [
    "import numpy as np\n",
    "from matplotlib import pyplot as plt\n",
    "import pandas as pd"
   ]
  },
  {
   "cell_type": "code",
   "execution_count": 2,
   "metadata": {},
   "outputs": [],
   "source": [
    "from matplotlib import rc\n",
    "rc('font', **{'family': 'serif', 'serif': ['Computer Modern'],'size':'18'})\n",
    "rc('text', usetex=True)"
   ]
  },
  {
   "cell_type": "code",
   "execution_count": 3,
   "metadata": {},
   "outputs": [],
   "source": [
    "som = pd.read_json('som_sss_d18o.json')\n",
    "data_sil = pd.read_json('./sil_som_format.json')\n",
    "#data_pho = pd.read_json('./pho_som_format.json')\n",
    "#data_nit = pd.read_json('./nit_som_format.json')\n",
    "#data_do = pd.read_json('./do_som_format.json')\n",
    "data_ep = pd.read_json('./ep_som_format.json')\n",
    "data_d18op = pd.read_json('./d18op_som_format.json')"
   ]
  },
  {
   "cell_type": "code",
   "execution_count": 5,
   "metadata": {},
   "outputs": [],
   "source": [
    "sil = np.array([])\n",
    "pho = np.array([])\n",
    "nit = np.array([])\n",
    "do = np.array([])\n",
    "ep = np.array([])\n",
    "d18op = np.array([])\n",
    "lat = np.array([])\n",
    "lon = np.array([])\n",
    "for lat_i in range(180):\n",
    "  for lon_j in range(360):\n",
    "    sil = np.append(sil,data_sil.loc[lat_i].at[lon_j])\n",
    "#    pho = np.append(pho,data_pho.loc[lat_i].at[lon_j])\n",
    "#    nit = np.append(nit,data_nit.loc[lat_i].at[lon_j])\n",
    "#    do = np.append(do,data_do.loc[lat_i].at[lon_j])\n",
    "    ep = np.append(ep,data_ep.loc[lat_i].at[lon_j])\n",
    "    d18op = np.append(d18op,data_d18op.loc[lat_i].at[lon_j])\n",
    "    lat = np.append(lat,lat_i)\n",
    "    lon = np.append(lon,lon_j)"
   ]
  },
  {
   "cell_type": "code",
   "execution_count": 6,
   "metadata": {},
   "outputs": [],
   "source": [
    "#som['pho'] = list(pho)\n",
    "som['sil'] = list(sil)\n",
    "#som['nit'] = list(nit)\n",
    "#som['do'] = list(do)\n",
    "som['ep'] = list(ep)\n",
    "som['d18op'] = list(d18op)"
   ]
  },
  {
   "cell_type": "code",
   "execution_count": 7,
   "metadata": {},
   "outputs": [],
   "source": [
    "bmu = np.array(som['bmu'])\n",
    "som = som.drop(['bmu','lat','lon'], axis = 1)"
   ]
  },
  {
   "cell_type": "code",
   "execution_count": 8,
   "metadata": {},
   "outputs": [],
   "source": [
    "feature_list = list(som.columns)\n",
    "som = np.array(som)"
   ]
  },
  {
   "cell_type": "code",
   "execution_count": 9,
   "metadata": {},
   "outputs": [],
   "source": [
    "from sklearn.model_selection import train_test_split\n",
    "train_features, test_features, train_labels, test_labels = train_test_split(som, bmu, test_size = 0.15)"
   ]
  },
  {
   "cell_type": "code",
   "execution_count": 10,
   "metadata": {},
   "outputs": [
    {
     "data": {
      "text/plain": [
       "RandomForestClassifier(n_estimators=50)"
      ]
     },
     "execution_count": 10,
     "metadata": {},
     "output_type": "execute_result"
    }
   ],
   "source": [
    "from sklearn.ensemble import RandomForestClassifier\n",
    "rf = RandomForestClassifier(n_estimators = 50)\n",
    "rf.fit(train_features, train_labels)"
   ]
  },
  {
   "cell_type": "code",
   "execution_count": 11,
   "metadata": {},
   "outputs": [
    {
     "name": "stdout",
     "output_type": "stream",
     "text": [
      "Mean Absolute Error: 193.19 BMU.\n"
     ]
    }
   ],
   "source": [
    "predictions = rf.predict(test_features)# Calculate the absolute errors\n",
    "errors = abs(predictions - test_labels)# Print out the mean absolute error (mae)\n",
    "print('Mean Absolute Error:', round(np.mean(errors), 2), 'BMU.')"
   ]
  },
  {
   "cell_type": "code",
   "execution_count": 12,
   "metadata": {},
   "outputs": [
    {
     "data": {
      "text/plain": [
       "array([0.21029422, 0.38620225, 0.40350353])"
      ]
     },
     "execution_count": 12,
     "metadata": {},
     "output_type": "execute_result"
    }
   ],
   "source": [
    "rf.feature_importances_"
   ]
  },
  {
   "cell_type": "code",
   "execution_count": null,
   "metadata": {},
   "outputs": [],
   "source": []
  }
 ],
 "metadata": {
  "kernelspec": {
   "display_name": "Python 3 (ipykernel)",
   "language": "python",
   "name": "python3"
  },
  "language_info": {
   "codemirror_mode": {
    "name": "ipython",
    "version": 3
   },
   "file_extension": ".py",
   "mimetype": "text/x-python",
   "name": "python",
   "nbconvert_exporter": "python",
   "pygments_lexer": "ipython3",
   "version": "3.8.3"
  }
 },
 "nbformat": 4,
 "nbformat_minor": 2
}
